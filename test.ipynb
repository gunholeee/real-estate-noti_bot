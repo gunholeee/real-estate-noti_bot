{
 "cells": [
  {
   "cell_type": "code",
   "execution_count": 1,
   "id": "03399181-6938-488d-96b9-ceb25c0324f9",
   "metadata": {},
   "outputs": [],
   "source": [
    "import requests\n",
    "from bs4 import BeautifulSoup\n"
   ]
  },
  {
   "cell_type": "code",
   "execution_count": 6,
   "id": "cd048849-bc44-40ce-be23-cd31a3d151a5",
   "metadata": {},
   "outputs": [],
   "source": [
    "\n",
    "# 네이버 부동산 - 잠실 아파트 매물 예시 URL\n",
    "url = \"https://land.naver.com/article/articleList.naver?rletTypeCd=A01&cortarNo=1168010600\"\n",
    "\n",
    "headers = {\n",
    "    \"User-Agent\": \"Mozilla/5.0\"\n",
    "}\n"
   ]
  },
  {
   "cell_type": "code",
   "execution_count": 8,
   "id": "4f977e2f-e40f-4737-b8d0-2807bb662514",
   "metadata": {},
   "outputs": [
    {
     "name": "stderr",
     "output_type": "stream",
     "text": [
      "C:\\Users\\user\\AppData\\Local\\anaconda3\\Lib\\site-packages\\urllib3\\connectionpool.py:1099: InsecureRequestWarning: Unverified HTTPS request is being made to host 'land.naver.com'. Adding certificate verification is strongly advised. See: https://urllib3.readthedocs.io/en/latest/advanced-usage.html#tls-warnings\n",
      "  warnings.warn(\n",
      "C:\\Users\\user\\AppData\\Local\\anaconda3\\Lib\\site-packages\\urllib3\\connectionpool.py:1099: InsecureRequestWarning: Unverified HTTPS request is being made to host 'new.land.naver.com'. Adding certificate verification is strongly advised. See: https://urllib3.readthedocs.io/en/latest/advanced-usage.html#tls-warnings\n",
      "  warnings.warn(\n",
      "C:\\Users\\user\\AppData\\Local\\anaconda3\\Lib\\site-packages\\urllib3\\connectionpool.py:1099: InsecureRequestWarning: Unverified HTTPS request is being made to host 'new.land.naver.com'. Adding certificate verification is strongly advised. See: https://urllib3.readthedocs.io/en/latest/advanced-usage.html#tls-warnings\n",
      "  warnings.warn(\n"
     ]
    },
    {
     "name": "stdout",
     "output_type": "stream",
     "text": [
      "응답코드: 200\n"
     ]
    }
   ],
   "source": [
    "res = requests.get(url, headers=headers, verify=False)\n",
    "print(\"응답코드:\", res.status_code)\n"
   ]
  },
  {
   "cell_type": "code",
   "execution_count": 9,
   "id": "f191b041-7514-4cd1-b38a-185ff51894fc",
   "metadata": {},
   "outputs": [],
   "source": [
    "\n",
    "soup = BeautifulSoup(res.text, \"html.parser\")\n"
   ]
  },
  {
   "cell_type": "code",
   "execution_count": 3,
   "id": "1bbad2fe-c905-49ec-9cf6-02413bfe72d9",
   "metadata": {},
   "outputs": [
    {
     "ename": "NameError",
     "evalue": "name 'soup' is not defined",
     "output_type": "error",
     "traceback": [
      "\u001b[0;31m---------------------------------------------------------------------------\u001b[0m",
      "\u001b[0;31mNameError\u001b[0m                                 Traceback (most recent call last)",
      "Cell \u001b[0;32mIn[3], line 2\u001b[0m\n\u001b[1;32m      1\u001b[0m \u001b[38;5;66;03m# 테스트용: 제목 태그 추출\u001b[39;00m\n\u001b[0;32m----> 2\u001b[0m titles \u001b[38;5;241m=\u001b[39m soup\u001b[38;5;241m.\u001b[39mselect(\u001b[38;5;124m\"\u001b[39m\u001b[38;5;124m.item_title\u001b[39m\u001b[38;5;124m\"\u001b[39m)  \u001b[38;5;66;03m# ← 이건 사이트 구조 바뀌면 안 나올 수 있음\u001b[39;00m\n\u001b[1;32m      4\u001b[0m \u001b[38;5;28;01mif\u001b[39;00m \u001b[38;5;129;01mnot\u001b[39;00m titles:\n\u001b[1;32m      5\u001b[0m     \u001b[38;5;28mprint\u001b[39m(\u001b[38;5;124m\"\u001b[39m\u001b[38;5;124m❌ 매물 제목을 찾을 수 없습니다. 셀렉터 점검이 필요합니다!\u001b[39m\u001b[38;5;124m\"\u001b[39m)\n",
      "\u001b[0;31mNameError\u001b[0m: name 'soup' is not defined"
     ]
    }
   ],
   "source": [
    "\n",
    "# 테스트용: 제목 태그 추출\n",
    "titles = soup.select(\".item_title\")  # ← 이건 사이트 구조 바뀌면 안 나올 수 있음\n",
    "\n",
    "if not titles:\n",
    "    print(\"❌ 매물 제목을 찾을 수 없습니다. 셀렉터 점검이 필요합니다!\")\n",
    "else:\n",
    "    for idx, title in enumerate(titles[:5], 1):\n",
    "        print(f\"{idx}. {title.get_text(strip=True)}\")"
   ]
  },
  {
   "cell_type": "code",
   "execution_count": 5,
   "id": "c5eb276d-49b7-4215-b2ba-258721683e04",
   "metadata": {},
   "outputs": [
    {
     "name": "stdout",
     "output_type": "stream",
     "text": [
      "is this done?!\n",
      "yap its done!\n"
     ]
    }
   ],
   "source": [
    "print(\"is this done?!\")\n",
    "print(\"yap its done!\")"
   ]
  },
  {
   "cell_type": "code",
   "execution_count": null,
   "id": "237cbfaf-46d3-4263-b57b-f3ab08f19d7d",
   "metadata": {},
   "outputs": [],
   "source": []
  }
 ],
 "metadata": {
  "kernelspec": {
   "display_name": "Python [conda env:base] *",
   "language": "python",
   "name": "conda-base-py"
  },
  "language_info": {
   "codemirror_mode": {
    "name": "ipython",
    "version": 3
   },
   "file_extension": ".py",
   "mimetype": "text/x-python",
   "name": "python",
   "nbconvert_exporter": "python",
   "pygments_lexer": "ipython3",
   "version": "3.12.2"
  }
 },
 "nbformat": 4,
 "nbformat_minor": 5
}
